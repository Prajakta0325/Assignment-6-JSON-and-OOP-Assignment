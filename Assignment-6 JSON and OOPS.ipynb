{
 "cells": [
  {
   "cell_type": "markdown",
   "id": "eea903b0",
   "metadata": {},
   "source": [
    "# Create an assignment for File handling of JSON files in Python"
   ]
  },
  {
   "cell_type": "markdown",
   "id": "3718f269",
   "metadata": {},
   "source": [
    "# Assignment 1"
   ]
  },
  {
   "cell_type": "code",
   "execution_count": 3,
   "id": "f660a80d",
   "metadata": {},
   "outputs": [
    {
     "name": "stdout",
     "output_type": "stream",
     "text": [
      "Enter Name :Prajakta\n",
      "Enter DOB :1997\n",
      "Enter Heigth :5.3\n",
      "Enter City :Hyderabad\n",
      "Enter State :Telangana\n",
      "{1: {'Name': 'Prajakta', 'DOB': 1997, 'Height': 5.3, 'City': 'Hyderabad', 'State': 'Telangana'}}\n",
      "Employee Details added Please check the file\n",
      "Enter Name :Akshay\n",
      "Enter DOB :1996\n",
      "Enter Heigth :6.0\n",
      "Enter City :Hyderabad\n",
      "Enter State :Telangana\n",
      "{1: {'Name': 'Prajakta', 'DOB': 1997, 'Height': 5.3, 'City': 'Hyderabad', 'State': 'Telangana'}, 2: {'Name': 'Akshay', 'DOB': 1996, 'Height': 6.0, 'City': 'Hyderabad', 'State': 'Telangana'}}\n",
      "Employee Details added Please check the file\n",
      "Enter Name :Gayatri\n",
      "Enter DOB :1995\n",
      "Enter Heigth :5.9\n",
      "Enter City :Pune\n",
      "Enter State :Maharashtra\n",
      "{1: {'Name': 'Prajakta', 'DOB': 1997, 'Height': 5.3, 'City': 'Hyderabad', 'State': 'Telangana'}, 2: {'Name': 'Akshay', 'DOB': 1996, 'Height': 6.0, 'City': 'Hyderabad', 'State': 'Telangana'}, 3: {'Name': 'Gayatri', 'DOB': 1995, 'Height': 5.9, 'City': 'Pune', 'State': 'Maharashtra'}}\n",
      "Employee Details added Please check the file\n",
      "Enter Name :Pooja\n",
      "Enter DOB :1997\n",
      "Enter Heigth :6.1\n",
      "Enter City :Mumbai\n",
      "Enter State :Maharashtra\n",
      "{1: {'Name': 'Prajakta', 'DOB': 1997, 'Height': 5.3, 'City': 'Hyderabad', 'State': 'Telangana'}, 2: {'Name': 'Akshay', 'DOB': 1996, 'Height': 6.0, 'City': 'Hyderabad', 'State': 'Telangana'}, 3: {'Name': 'Gayatri', 'DOB': 1995, 'Height': 5.9, 'City': 'Pune', 'State': 'Maharashtra'}, 4: {'Name': 'Pooja', 'DOB': 1997, 'Height': 6.1, 'City': 'Mumbai', 'State': 'Maharashtra'}}\n",
      "Employee Details added Please check the file\n",
      "Enter Name :Pranoti\n",
      "Enter DOB :1998\n",
      "Enter Heigth :5.6\n",
      "Enter City :Bengaluru\n",
      "Enter State :Karnataka\n",
      "{1: {'Name': 'Prajakta', 'DOB': 1997, 'Height': 5.3, 'City': 'Hyderabad', 'State': 'Telangana'}, 2: {'Name': 'Akshay', 'DOB': 1996, 'Height': 6.0, 'City': 'Hyderabad', 'State': 'Telangana'}, 3: {'Name': 'Gayatri', 'DOB': 1995, 'Height': 5.9, 'City': 'Pune', 'State': 'Maharashtra'}, 4: {'Name': 'Pooja', 'DOB': 1997, 'Height': 6.1, 'City': 'Mumbai', 'State': 'Maharashtra'}, 5: {'Name': 'Pranoti', 'DOB': 1998, 'Height': 5.6, 'City': 'Bengaluru', 'State': 'Karnataka'}}\n",
      "Employee Details added Please check the file\n",
      "****************************************************************************************************\n",
      "{'1': {'Name': 'Prajakta', 'DOB': 1997, 'Height': 5.3, 'City': 'Hyderabad', 'State': 'Telangana'}, '2': {'Name': 'Akshay', 'DOB': 1996, 'Height': 6.0, 'City': 'Hyderabad', 'State': 'Telangana'}, '3': {'Name': 'Gayatri', 'DOB': 1995, 'Height': 5.9, 'City': 'Pune', 'State': 'Maharashtra'}, '4': {'Name': 'Pooja', 'DOB': 1997, 'Height': 6.1, 'City': 'Mumbai', 'State': 'Maharashtra'}, '5': {'Name': 'Pranoti', 'DOB': 1998, 'Height': 5.6, 'City': 'Bengaluru', 'State': 'Karnataka'}}\n"
     ]
    }
   ],
   "source": [
    "import json\n",
    "class Employee:\n",
    "    def __init__(self):\n",
    "        self.employee_details={}\n",
    "        \n",
    "    def add_employee(self):\n",
    "        self.Name=input(\"Enter Name :\")\n",
    "        self.DOB=int(input(\"Enter DOB :\"))\n",
    "        self.Height=float(input(\"Enter Heigth :\"))\n",
    "        self.City=input(\"Enter City :\")\n",
    "        self.State=input(\"Enter State :\")\n",
    "        \n",
    "        self.employee={\"Name\":self.Name,\"DOB\":self.DOB,\"Height\":self.Height,\"City\":self.City,\"State\":self.State}\n",
    "        \n",
    "        self.employee_id=len(self.employee_details)+1\n",
    "        self.employee_details[self.employee_id]=self.employee\n",
    "        print(self.employee_details)\n",
    "        \n",
    "        #save data into json file\n",
    "        with open(\"Employee.json\",\"w\")as f:\n",
    "            json.dump(self.employee_details,f,indent=4)\n",
    "        print(\"Employee Details added Please check the file\")\n",
    "      \n",
    "    #read data from json file\n",
    "    def view_all(self):\n",
    "        with open(\"Employee.json\",\"r\")as f:\n",
    "            details=json.load(f)\n",
    "            print(details)\n",
    "        \n",
    "\n",
    "e=Employee()\n",
    "e.add_employee()\n",
    "e.add_employee()\n",
    "e.add_employee()\n",
    "e.add_employee()\n",
    "e.add_employee()\n",
    "print(\"*\"*100)\n",
    "e.view_all()"
   ]
  },
  {
   "cell_type": "code",
   "execution_count": null,
   "id": "f1ef6f9b",
   "metadata": {},
   "outputs": [],
   "source": []
  },
  {
   "cell_type": "code",
   "execution_count": null,
   "id": "8175f007",
   "metadata": {},
   "outputs": [],
   "source": [
    "# Create a dictionary of any 7 Indian states and their capitals. Write this into a JSON file."
   ]
  },
  {
   "cell_type": "code",
   "execution_count": 5,
   "id": "00423625",
   "metadata": {},
   "outputs": [
    {
     "name": "stdout",
     "output_type": "stream",
     "text": [
      "Data added Successfully !!! Please check the file\n"
     ]
    }
   ],
   "source": [
    "import json\n",
    "state={\"Maharashtra\":\"Mumbai\",\"Madhya Pradesh\":\"Bhopal\",\"Meghalaya\":\"Shilong\",\"Karnataka\":\"Bengaluru\",\"Gujrat\":\"Gandhinagar\",\"Telangana\":\"Hyderabad\"}\n",
    "\n",
    "f=open(\"State.json\",\"w\")\n",
    "json.dump(state,f,indent=4)\n",
    "print(\"Data added Successfully !!! Please check the file\")"
   ]
  },
  {
   "cell_type": "code",
   "execution_count": null,
   "id": "c49b8058",
   "metadata": {},
   "outputs": [],
   "source": []
  },
  {
   "cell_type": "code",
   "execution_count": null,
   "id": "8c59f55d",
   "metadata": {},
   "outputs": [],
   "source": []
  },
  {
   "cell_type": "markdown",
   "id": "d04b5a0b",
   "metadata": {},
   "source": [
    "# Assignment 2\n",
    "#Create a class named ‘Dog’. \n",
    "#It should have a constructor which accepts its name, age and coat color. You must perform the following operations:"
   ]
  },
  {
   "cell_type": "code",
   "execution_count": 6,
   "id": "0214a4d5",
   "metadata": {},
   "outputs": [
    {
     "name": "stdout",
     "output_type": "stream",
     "text": [
      "Name of Dog : Jackson\n",
      "Age of Dog : 10\n",
      "coat_color : Black\n",
      "Dog's Breed : Jack Russell Terrier\n",
      "Height : 10 cm\n",
      "Weight : 13 pounds\n",
      "****************************************************************************************************\n",
      "Name of Dog : Hunter\n",
      "Age of Dog : 5\n",
      "coat_color : Black\n",
      "Dog's Breed : BullDog\n",
      "Life sapn : 8-10 years\n"
     ]
    }
   ],
   "source": [
    "class Dog:\n",
    "    def __init__(self,name,age,coat_color):\n",
    "        self.name=name\n",
    "        self.age=age\n",
    "        self.coat_color=coat_color\n",
    "        \n",
    "    def description(self):\n",
    "        print(\"Name of Dog :\",self.name)\n",
    "        print(\"Age of Dog :\",self.age)\n",
    "        \n",
    "    def get_info(self):\n",
    "        print(\"coat_color :\",self.coat_color)\n",
    "        \n",
    "class JackRussellTerrier(Dog):\n",
    "    def __init__(self,name,age,coat_color,breed,height,weight):\n",
    "        self.breed=breed\n",
    "        self.height=height\n",
    "        self.weight=weight\n",
    "        super().__init__(name,age,coat_color)\n",
    "        \n",
    "    def breed_info(self):\n",
    "        print(\"Dog's Breed :\",self.breed)\n",
    "        \n",
    "    def height_weight_info(self):\n",
    "        print(\"Height :\",self.height)\n",
    "        print(\"Weight :\",self.weight)\n",
    "        \n",
    "class Bulldog(Dog):\n",
    "    def __init__(self,name,age,coat_color,breed,life_span):\n",
    "        self.breed=breed\n",
    "        self.life_span=life_span\n",
    "        super().__init__(name,age,coat_color)\n",
    "        \n",
    "    def breed_info(self):\n",
    "        print(\"Dog's Breed :\",self.breed)\n",
    "        \n",
    "    def life_span_info(self):\n",
    "        print(\"Life sapn :\",self.life_span)\n",
    "\n",
    "d=JackRussellTerrier(\"Jackson\",\"10\",\"Black\",\"Jack Russell Terrier\",\"10 cm\",\"13 pounds\")\n",
    "d.description()\n",
    "d.get_info()\n",
    "d.breed_info()\n",
    "d.height_weight_info()\n",
    "print(\"*\"*100)\n",
    "\n",
    "bu=Bulldog(\"Hunter\",\"5\",\"Black\",\"BullDog\",\"8-10 years\")\n",
    "bu.description()\n",
    "bu.get_info()\n",
    "bu.breed_info()\n",
    "bu.life_span_info()"
   ]
  },
  {
   "cell_type": "code",
   "execution_count": null,
   "id": "58ba66be",
   "metadata": {},
   "outputs": [],
   "source": []
  }
 ],
 "metadata": {
  "kernelspec": {
   "display_name": "Python 3 (ipykernel)",
   "language": "python",
   "name": "python3"
  },
  "language_info": {
   "codemirror_mode": {
    "name": "ipython",
    "version": 3
   },
   "file_extension": ".py",
   "mimetype": "text/x-python",
   "name": "python",
   "nbconvert_exporter": "python",
   "pygments_lexer": "ipython3",
   "version": "3.9.13"
  }
 },
 "nbformat": 4,
 "nbformat_minor": 5
}
